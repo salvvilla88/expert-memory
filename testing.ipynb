{
 "cells": [
  {
   "cell_type": "code",
   "execution_count": 11,
   "metadata": {},
   "outputs": [],
   "source": [
    "from langchain.agents import Tool, AgentExecutor, LLMSingleActionAgent, AgentOutputParser\n",
    "from langchain.prompts import BaseChatPromptTemplate\n",
    "from langchain.utilities import SerpAPIWrapper\n",
    "from langchain.chains.llm import LLMChain\n",
    "from langchain.chat_models import ChatOpenAI\n",
    "from typing import List, Union\n",
    "from langchain.schema import AgentAction, AgentFinish, HumanMessage\n",
    "import re\n",
    "from getpass import getpass\n",
    "import os\n",
    "from dotenv import load_dotenv"
   ]
  },
  {
   "cell_type": "code",
   "execution_count": 22,
   "metadata": {},
   "outputs": [],
   "source": [
    "load_dotenv(dotenv_path='.streamlit\\secrets.toml')\n",
    "SERPAPI_API_KEY = os.getenv('SERPAPI_API_KEY')\n",
    "OPENAI_API_KEY  = os.getenv('OPENAI')"
   ]
  },
  {
   "cell_type": "markdown",
   "metadata": {},
   "source": [
    "## Setting up the tools"
   ]
  },
  {
   "cell_type": "code",
   "execution_count": 16,
   "metadata": {},
   "outputs": [],
   "source": [
    "# Define which tools the agent can use to answer user queries\n",
    "search = SerpAPIWrapper(serpapi_api_key=SERPAPI_API_KEY)\n",
    "tools = [\n",
    "    Tool(\n",
    "        name = \"Search\",\n",
    "        func=search.run,\n",
    "        description=\"useful for when you need to answer questions about current events\"\n",
    "    )\n",
    "]"
   ]
  },
  {
   "cell_type": "markdown",
   "metadata": {},
   "source": [
    "## Prompt template"
   ]
  },
  {
   "cell_type": "markdown",
   "metadata": {},
   "source": [
    "This instructs the agent on what to do. Generally, the template should incorporate:\n",
    "\n",
    "- **tools**: which tools the agent has access and how and when to call them.\n",
    "- **intermediate_steps**: These are tuples of previous (AgentAction, Observation) pairs. These are generally not passed directly to the model, but the prompt template formats them in a specific way.\n",
    "- **input**: generic user input"
   ]
  },
  {
   "cell_type": "code",
   "execution_count": 17,
   "metadata": {},
   "outputs": [],
   "source": [
    "# Set up the base template\n",
    "template = \"\"\"Complete the objective as best you can. You have access to the following tools:\n",
    "\n",
    "{tools}\n",
    "\n",
    "Use the following format:\n",
    "\n",
    "Question: the input question you must answer\n",
    "Thought: you should always think about what to do\n",
    "Action: the action to take, should be one of [{tool_names}]\n",
    "Action Input: the input to the action\n",
    "Observation: the result of the action\n",
    "... (this Thought/Action/Action Input/Observation can repeat N times)\n",
    "Thought: I now know the final answer\n",
    "Final Answer: the final answer to the original input question\n",
    "\n",
    "These were previous tasks you completed:\n",
    "\n",
    "\n",
    "\n",
    "Begin!\n",
    "\n",
    "Question: {input}\n",
    "{agent_scratchpad}\"\"\""
   ]
  },
  {
   "cell_type": "code",
   "execution_count": 18,
   "metadata": {},
   "outputs": [],
   "source": [
    "# Set up a prompt template\n",
    "class CustomPromptTemplate(BaseChatPromptTemplate):\n",
    "    # The template to use\n",
    "    template: str\n",
    "    # The list of tools available\n",
    "    tools: List[Tool]\n",
    "    \n",
    "    def format_messages(self, **kwargs) -> str:\n",
    "        # Get the intermediate steps (AgentAction, Observation tuples)\n",
    "        # Format them in a particular way\n",
    "        intermediate_steps = kwargs.pop(\"intermediate_steps\")\n",
    "        thoughts = \"\"\n",
    "        for action, observation in intermediate_steps:\n",
    "            thoughts += action.log\n",
    "            thoughts += f\"\\nObservation: {observation}\\nThought: \"\n",
    "        # Set the agent_scratchpad variable to that value\n",
    "        kwargs[\"agent_scratchpad\"] = thoughts\n",
    "        # Create a tools variable from the list of tools provided\n",
    "        kwargs[\"tools\"] = \"\\n\".join([f\"{tool.name}: {tool.description}\" for tool in self.tools])\n",
    "        # Create a list of tool names for the tools provided\n",
    "        kwargs[\"tool_names\"] = \", \".join([tool.name for tool in self.tools])\n",
    "        formatted = self.template.format(**kwargs)\n",
    "        return [HumanMessage(content=formatted)]"
   ]
  },
  {
   "cell_type": "code",
   "execution_count": 19,
   "metadata": {},
   "outputs": [],
   "source": [
    "prompt = CustomPromptTemplate(\n",
    "    template=template,\n",
    "    tools=tools,\n",
    "    # This omits the `agent_scratchpad`, `tools`, and `tool_names` variables because those are generated dynamically\n",
    "    # This includes the `intermediate_steps` variable because that is needed\n",
    "    input_variables=[\"input\", \"intermediate_steps\"]\n",
    ")"
   ]
  },
  {
   "cell_type": "markdown",
   "metadata": {},
   "source": [
    "## Output parser"
   ]
  },
  {
   "cell_type": "markdown",
   "metadata": {},
   "source": [
    "The output parser is responsible for parsing the LLM output into AgentAction and AgentFinish. This usually depends heavily on the prompt used.\n",
    "\n",
    "This is where you can change the parsing to do retries, handle whitespace, etc.\n"
   ]
  },
  {
   "cell_type": "code",
   "execution_count": 20,
   "metadata": {},
   "outputs": [],
   "source": [
    "class CustomOutputParser(AgentOutputParser):\n",
    "    \n",
    "    def parse(self, llm_output: str) -> Union[AgentAction, AgentFinish]:\n",
    "        # Check if agent should finish\n",
    "        if \"Final Answer:\" in llm_output:\n",
    "            return AgentFinish(\n",
    "                # Return values is generally always a dictionary with a single `output` key\n",
    "                # It is not recommended to try anything else at the moment :)\n",
    "                return_values={\"output\": llm_output.split(\"Final Answer:\")[-1].strip()},\n",
    "                log=llm_output,\n",
    "            )\n",
    "        # Parse out the action and action input\n",
    "        regex = r\"Action\\s*\\d*\\s*:(.*?)\\nAction\\s*\\d*\\s*Input\\s*\\d*\\s*:[\\s]*(.*)\"\n",
    "        match = re.search(regex, llm_output, re.DOTALL)\n",
    "        if not match:\n",
    "            raise ValueError(f\"Could not parse LLM output: `{llm_output}`\")\n",
    "        action = match.group(1).strip()\n",
    "        action_input = match.group(2)\n",
    "        # Return the action and action input\n",
    "        return AgentAction(tool=action, tool_input=action_input.strip(\" \").strip('\"'), log=llm_output)"
   ]
  },
  {
   "cell_type": "code",
   "execution_count": 21,
   "metadata": {},
   "outputs": [],
   "source": [
    "output_parser = CustomOutputParser()"
   ]
  },
  {
   "cell_type": "code",
   "execution_count": 23,
   "metadata": {},
   "outputs": [],
   "source": [
    "llm = ChatOpenAI(openai_api_key=OPENAI_API_KEY, temperature=0)"
   ]
  },
  {
   "cell_type": "code",
   "execution_count": 24,
   "metadata": {},
   "outputs": [],
   "source": [
    "# LLM chain consisting of the LLM and a prompt\n",
    "llm_chain = LLMChain(llm=llm, prompt=prompt)"
   ]
  },
  {
   "cell_type": "code",
   "execution_count": 25,
   "metadata": {},
   "outputs": [],
   "source": [
    "tool_names = [tool.name for tool in tools]\n",
    "agent = LLMSingleActionAgent(\n",
    "    llm_chain=llm_chain, \n",
    "    output_parser=output_parser,\n",
    "    stop=[\"\\nObservation:\"], \n",
    "    allowed_tools=tool_names\n",
    ")"
   ]
  },
  {
   "cell_type": "code",
   "execution_count": 27,
   "metadata": {},
   "outputs": [
    {
     "ename": "NameError",
     "evalue": "name 'AIMessage' is not defined",
     "output_type": "error",
     "traceback": [
      "\u001b[1;31m---------------------------------------------------------------------------\u001b[0m",
      "\u001b[1;31mNameError\u001b[0m                                 Traceback (most recent call last)",
      "\u001b[1;32mc:\\Users\\Mothling\\Projects\\LLMs\\GPT\\expert-memory\\testing.ipynb Cell 17\u001b[0m line \u001b[0;36m1\n\u001b[1;32m----> <a href='vscode-notebook-cell:/c%3A/Users/Mothling/Projects/LLMs/GPT/expert-memory/testing.ipynb#X24sZmlsZQ%3D%3D?line=0'>1</a>\u001b[0m dict_thing \u001b[39m=\u001b[39m {\u001b[39m'\u001b[39m\u001b[39minput\u001b[39m\u001b[39m'\u001b[39m: \u001b[39m'\u001b[39m\u001b[39mI meant interactively via a GUI\u001b[39m\u001b[39m'\u001b[39m, \u001b[39m'\u001b[39m\u001b[39mchat_history\u001b[39m\u001b[39m'\u001b[39m: [AIMessage(content\u001b[39m=\u001b[39m\u001b[39m'\u001b[39m\u001b[39mHow can I help you?\u001b[39m\u001b[39m'\u001b[39m, additional_kwargs\u001b[39m=\u001b[39m{}, example\u001b[39m=\u001b[39m\u001b[39mFalse\u001b[39;00m), HumanMessage(content\u001b[39m=\u001b[39m\u001b[39m'\u001b[39m\u001b[39mHello\u001b[39m\u001b[39m'\u001b[39m, additional_kwargs\u001b[39m=\u001b[39m{}, example\u001b[39m=\u001b[39m\u001b[39mFalse\u001b[39;00m), AIMessage(content\u001b[39m=\u001b[39m\u001b[39m'\u001b[39m\u001b[39mHello! How can I assist you today?\u001b[39m\u001b[39m'\u001b[39m, additional_kwargs\u001b[39m=\u001b[39m{}, example\u001b[39m=\u001b[39m\u001b[39mFalse\u001b[39;00m), HumanMessage(content\u001b[39m=\u001b[39m\u001b[39m'\u001b[39m\u001b[39mWhat does pop do in the following code?\u001b[39m\u001b[39m\\n\u001b[39;00m\u001b[39m\\n\u001b[39;00m\u001b[39m# Set up a prompt template\u001b[39m\u001b[39m\\n\u001b[39;00m\u001b[39mclass CustomPromptTemplate(BaseChatPromptTemplate):\u001b[39m\u001b[39m\\n\u001b[39;00m\u001b[39m    # The template to use\u001b[39m\u001b[39m\\n\u001b[39;00m\u001b[39m    template: str\u001b[39m\u001b[39m\\n\u001b[39;00m\u001b[39m    # The list of tools available\u001b[39m\u001b[39m\\n\u001b[39;00m\u001b[39m    tools: List[Tool]\u001b[39m\u001b[39m\\n\u001b[39;00m\u001b[39m    \u001b[39m\u001b[39m\\n\u001b[39;00m\u001b[39m    def format_messages(self, **kwargs) -> str:\u001b[39m\u001b[39m\\n\u001b[39;00m\u001b[39m        # Get the intermediate steps (AgentAction, Observation tuples)\u001b[39m\u001b[39m\\n\u001b[39;00m\u001b[39m        # Format them in a particular way\u001b[39m\u001b[39m\\n\u001b[39;00m\u001b[39m        intermediate_steps = kwargs.pop(\u001b[39m\u001b[39m\"\u001b[39m\u001b[39mintermediate_steps\u001b[39m\u001b[39m\"\u001b[39m\u001b[39m)\u001b[39m\u001b[39m\\n\u001b[39;00m\u001b[39m        thoughts = \u001b[39m\u001b[39m\"\u001b[39m\u001b[39m\"\u001b[39m\u001b[39m\\n\u001b[39;00m\u001b[39m        for action, observation in intermediate_steps:\u001b[39m\u001b[39m\\n\u001b[39;00m\u001b[39m            thoughts += action.log\u001b[39m\u001b[39m\\n\u001b[39;00m\u001b[39m            thoughts += f\u001b[39m\u001b[39m\"\u001b[39m\u001b[39m\\\\\u001b[39;00m\u001b[39mnObservation: \u001b[39m\u001b[39m{observation}\u001b[39;00m\u001b[39m\\\\\u001b[39;00m\u001b[39mnThought: \u001b[39m\u001b[39m\"\u001b[39m\u001b[39m\\n\u001b[39;00m\u001b[39m        # Set the agent_scratchpad variable to that value\u001b[39m\u001b[39m\\n\u001b[39;00m\u001b[39m        kwargs[\u001b[39m\u001b[39m\"\u001b[39m\u001b[39magent_scratchpad\u001b[39m\u001b[39m\"\u001b[39m\u001b[39m] = thoughts\u001b[39m\u001b[39m\\n\u001b[39;00m\u001b[39m        # Create a tools variable from the list of tools provided\u001b[39m\u001b[39m\\n\u001b[39;00m\u001b[39m        kwargs[\u001b[39m\u001b[39m\"\u001b[39m\u001b[39mtools\u001b[39m\u001b[39m\"\u001b[39m\u001b[39m] = \u001b[39m\u001b[39m\"\u001b[39m\u001b[39m\\\\\u001b[39;00m\u001b[39mn\u001b[39m\u001b[39m\"\u001b[39m\u001b[39m.join([f\u001b[39m\u001b[39m\"\u001b[39m\u001b[39m{tool.name}\u001b[39;00m\u001b[39m: \u001b[39m\u001b[39m{tool.description}\u001b[39;00m\u001b[39m\"\u001b[39m\u001b[39m for tool in self.tools])\u001b[39m\u001b[39m\\n\u001b[39;00m\u001b[39m        # Create a list of tool names for the tools provided\u001b[39m\u001b[39m\\n\u001b[39;00m\u001b[39m        kwargs[\u001b[39m\u001b[39m\"\u001b[39m\u001b[39mtool_names\u001b[39m\u001b[39m\"\u001b[39m\u001b[39m] = \u001b[39m\u001b[39m\"\u001b[39m\u001b[39m, \u001b[39m\u001b[39m\"\u001b[39m\u001b[39m.join([tool.name for tool in self.tools])\u001b[39m\u001b[39m\\n\u001b[39;00m\u001b[39m        formatted = self.template.format(**kwargs)\u001b[39m\u001b[39m\\n\u001b[39;00m\u001b[39m        return [HumanMessage(content=formatted)]\u001b[39m\u001b[39m'\u001b[39m, additional_kwargs\u001b[39m=\u001b[39m{}, example\u001b[39m=\u001b[39m\u001b[39mFalse\u001b[39;00m), AIMessage(content\u001b[39m=\u001b[39m\u001b[39m'\u001b[39m\u001b[39mThe `pop()` function is used to remove and return the last item from a list. It modifies the list in-place.\u001b[39m\u001b[39m'\u001b[39m, additional_kwargs\u001b[39m=\u001b[39m{}, example\u001b[39m=\u001b[39m\u001b[39mFalse\u001b[39;00m), HumanMessage(content\u001b[39m=\u001b[39m\u001b[39m'\u001b[39m\u001b[39mWhat would be some code to create a basic plot in matplotlib interactively?\u001b[39m\u001b[39m'\u001b[39m, additional_kwargs\u001b[39m=\u001b[39m{}, example\u001b[39m=\u001b[39m\u001b[39mFalse\u001b[39;00m), AIMessage(content\u001b[39m=\u001b[39m\u001b[39m'\u001b[39m\u001b[39mTo create a basic plot in matplotlib interactively, you can use the following code:\u001b[39m\u001b[39m\\n\u001b[39;00m\u001b[39m\\n\u001b[39;00m\u001b[39m```python\u001b[39m\u001b[39m\\n\u001b[39;00m\u001b[39mimport matplotlib.pyplot as plt\u001b[39m\u001b[39m\\n\u001b[39;00m\u001b[39m\\n\u001b[39;00m\u001b[39m# Create some data\u001b[39m\u001b[39m\\n\u001b[39;00m\u001b[39mx = [1, 2, 3, 4, 5]\u001b[39m\u001b[39m\\n\u001b[39;00m\u001b[39my = [2, 4, 6, 8, 10]\u001b[39m\u001b[39m\\n\u001b[39;00m\u001b[39m\\n\u001b[39;00m\u001b[39m# Plot the data\u001b[39m\u001b[39m\\n\u001b[39;00m\u001b[39mplt.plot(x, y)\u001b[39m\u001b[39m\\n\u001b[39;00m\u001b[39m\\n\u001b[39;00m\u001b[39m# Show the plot\u001b[39m\u001b[39m\\n\u001b[39;00m\u001b[39mplt.show()\u001b[39m\u001b[39m\\n\u001b[39;00m\u001b[39m```\u001b[39m\u001b[39m'\u001b[39m, additional_kwargs\u001b[39m=\u001b[39m{}, example\u001b[39m=\u001b[39m\u001b[39mFalse\u001b[39;00m), HumanMessage(content\u001b[39m=\u001b[39m\u001b[39m'\u001b[39m\u001b[39mI meant interactively via a GUI\u001b[39m\u001b[39m'\u001b[39m, additional_kwargs\u001b[39m=\u001b[39m{}, example\u001b[39m=\u001b[39m\u001b[39mFalse\u001b[39;00m), AIMessage(content\u001b[39m=\u001b[39m\u001b[39m'\u001b[39m\u001b[39mTo create a basic plot in matplotlib interactively via a GUI, you can use the following code:\u001b[39m\u001b[39m\\n\u001b[39;00m\u001b[39m\\n\u001b[39;00m\u001b[39m```python\u001b[39m\u001b[39m\\n\u001b[39;00m\u001b[39mimport matplotlib.pyplot as plt\u001b[39m\u001b[39m\\n\u001b[39;00m\u001b[39m\\n\u001b[39;00m\u001b[39m# Create some data\u001b[39m\u001b[39m\\n\u001b[39;00m\u001b[39mx = [1, 2, 3, 4, 5]\u001b[39m\u001b[39m\\n\u001b[39;00m\u001b[39my = [2, 4, 6, 8, 10]\u001b[39m\u001b[39m\\n\u001b[39;00m\u001b[39m\\n\u001b[39;00m\u001b[39m# Create a figure and axes\u001b[39m\u001b[39m\\n\u001b[39;00m\u001b[39mfig, ax = plt.subplots()\u001b[39m\u001b[39m\\n\u001b[39;00m\u001b[39m\\n\u001b[39;00m\u001b[39m# Plot the data\u001b[39m\u001b[39m\\n\u001b[39;00m\u001b[39max.plot(x, y)\u001b[39m\u001b[39m\\n\u001b[39;00m\u001b[39m\\n\u001b[39;00m\u001b[39m# Show the plot interactively\u001b[39m\u001b[39m\\n\u001b[39;00m\u001b[39mplt.show(block=True)\u001b[39m\u001b[39m\\n\u001b[39;00m\u001b[39m```\u001b[39m\u001b[39m'\u001b[39m, additional_kwargs\u001b[39m=\u001b[39m{}, example\u001b[39m=\u001b[39m\u001b[39mFalse\u001b[39;00m)], \u001b[39m'\u001b[39m\u001b[39moutput\u001b[39m\u001b[39m'\u001b[39m: \u001b[39m'\u001b[39m\u001b[39mTo create a basic plot in matplotlib interactively via a GUI, you can use the following code:\u001b[39m\u001b[39m\\n\u001b[39;00m\u001b[39m\\n\u001b[39;00m\u001b[39m```python\u001b[39m\u001b[39m\\n\u001b[39;00m\u001b[39mimport matplotlib.pyplot as plt\u001b[39m\u001b[39m\\n\u001b[39;00m\u001b[39m\\n\u001b[39;00m\u001b[39m# Create some data\u001b[39m\u001b[39m\\n\u001b[39;00m\u001b[39mx = [1, 2, 3, 4, 5]\u001b[39m\u001b[39m\\n\u001b[39;00m\u001b[39my = [2, 4, 6, 8, 10]\u001b[39m\u001b[39m\\n\u001b[39;00m\u001b[39m\\n\u001b[39;00m\u001b[39m# Create a figure and axes\u001b[39m\u001b[39m\\n\u001b[39;00m\u001b[39mfig, ax = plt.subplots()\u001b[39m\u001b[39m\\n\u001b[39;00m\u001b[39m\\n\u001b[39;00m\u001b[39m# Plot the data\u001b[39m\u001b[39m\\n\u001b[39;00m\u001b[39max.plot(x, y)\u001b[39m\u001b[39m\\n\u001b[39;00m\u001b[39m\\n\u001b[39;00m\u001b[39m# Show the plot interactively\u001b[39m\u001b[39m\\n\u001b[39;00m\u001b[39mplt.show(block=True)\u001b[39m\u001b[39m\\n\u001b[39;00m\u001b[39m```\u001b[39m\u001b[39m'\u001b[39m, \u001b[39m'\u001b[39m\u001b[39mintermediate_steps\u001b[39m\u001b[39m'\u001b[39m: [(AgentAction(tool\u001b[39m=\u001b[39m\u001b[39m'\u001b[39m\u001b[39m_Exception\u001b[39m\u001b[39m'\u001b[39m, tool_input\u001b[39m=\u001b[39m\u001b[39m'\u001b[39m\u001b[39mInvalid or incomplete response\u001b[39m\u001b[39m'\u001b[39m, log\u001b[39m=\u001b[39m\u001b[39m'\u001b[39m\u001b[39mCould not parse LLM output: To create a basic plot in matplotlib interactively via a GUI, you can use the following code:\u001b[39m\u001b[39m\\n\u001b[39;00m\u001b[39m\\n\u001b[39;00m\u001b[39m```python\u001b[39m\u001b[39m\\n\u001b[39;00m\u001b[39mimport matplotlib.pyplot as plt\u001b[39m\u001b[39m\\n\u001b[39;00m\u001b[39m\\n\u001b[39;00m\u001b[39m# Create some data\u001b[39m\u001b[39m\\n\u001b[39;00m\u001b[39mx = [1, 2, 3, 4, 5]\u001b[39m\u001b[39m\\n\u001b[39;00m\u001b[39my = [2, 4, 6, 8, 10]\u001b[39m\u001b[39m\\n\u001b[39;00m\u001b[39m\\n\u001b[39;00m\u001b[39m# Create a figure and axes\u001b[39m\u001b[39m\\n\u001b[39;00m\u001b[39mfig, ax = plt.subplots()\u001b[39m\u001b[39m\\n\u001b[39;00m\u001b[39m\\n\u001b[39;00m\u001b[39m# Plot the data\u001b[39m\u001b[39m\\n\u001b[39;00m\u001b[39max.plot(x, y)\u001b[39m\u001b[39m\\n\u001b[39;00m\u001b[39m\\n\u001b[39;00m\u001b[39m# Show the plot interactively\u001b[39m\u001b[39m\\n\u001b[39;00m\u001b[39mplt.show(block=True)\u001b[39m\u001b[39m\\n\u001b[39;00m\u001b[39m```\u001b[39m\u001b[39m\\n\u001b[39;00m\u001b[39m\\n\u001b[39;00m\u001b[39mThis code will display the plot in a separate window and allow you to interact with it using the GUI provided by matplotlib.\u001b[39m\u001b[39m'\u001b[39m), \u001b[39m'\u001b[39m\u001b[39mInvalid or incomplete response\u001b[39m\u001b[39m'\u001b[39m)]}\n",
      "\u001b[1;31mNameError\u001b[0m: name 'AIMessage' is not defined"
     ]
    }
   ],
   "source": [
    "dict_thing = {'input': 'I meant interactively via a GUI', 'chat_history': [AIMessage(content='How can I help you?', additional_kwargs={}, example=False), HumanMessage(content='Hello', additional_kwargs={}, example=False), AIMessage(content='Hello! How can I assist you today?', additional_kwargs={}, example=False), HumanMessage(content='What does pop do in the following code?\\n\\n# Set up a prompt template\\nclass CustomPromptTemplate(BaseChatPromptTemplate):\\n    # The template to use\\n    template: str\\n    # The list of tools available\\n    tools: List[Tool]\\n    \\n    def format_messages(self, **kwargs) -> str:\\n        # Get the intermediate steps (AgentAction, Observation tuples)\\n        # Format them in a particular way\\n        intermediate_steps = kwargs.pop(\"intermediate_steps\")\\n        thoughts = \"\"\\n        for action, observation in intermediate_steps:\\n            thoughts += action.log\\n            thoughts += f\"\\\\nObservation: {observation}\\\\nThought: \"\\n        # Set the agent_scratchpad variable to that value\\n        kwargs[\"agent_scratchpad\"] = thoughts\\n        # Create a tools variable from the list of tools provided\\n        kwargs[\"tools\"] = \"\\\\n\".join([f\"{tool.name}: {tool.description}\" for tool in self.tools])\\n        # Create a list of tool names for the tools provided\\n        kwargs[\"tool_names\"] = \", \".join([tool.name for tool in self.tools])\\n        formatted = self.template.format(**kwargs)\\n        return [HumanMessage(content=formatted)]', additional_kwargs={}, example=False), AIMessage(content='The `pop()` function is used to remove and return the last item from a list. It modifies the list in-place.', additional_kwargs={}, example=False), HumanMessage(content='What would be some code to create a basic plot in matplotlib interactively?', additional_kwargs={}, example=False), AIMessage(content='To create a basic plot in matplotlib interactively, you can use the following code:\\n\\n```python\\nimport matplotlib.pyplot as plt\\n\\n# Create some data\\nx = [1, 2, 3, 4, 5]\\ny = [2, 4, 6, 8, 10]\\n\\n# Plot the data\\nplt.plot(x, y)\\n\\n# Show the plot\\nplt.show()\\n```', additional_kwargs={}, example=False), HumanMessage(content='I meant interactively via a GUI', additional_kwargs={}, example=False), AIMessage(content='To create a basic plot in matplotlib interactively via a GUI, you can use the following code:\\n\\n```python\\nimport matplotlib.pyplot as plt\\n\\n# Create some data\\nx = [1, 2, 3, 4, 5]\\ny = [2, 4, 6, 8, 10]\\n\\n# Create a figure and axes\\nfig, ax = plt.subplots()\\n\\n# Plot the data\\nax.plot(x, y)\\n\\n# Show the plot interactively\\nplt.show(block=True)\\n```', additional_kwargs={}, example=False)], 'output': 'To create a basic plot in matplotlib interactively via a GUI, you can use the following code:\\n\\n```python\\nimport matplotlib.pyplot as plt\\n\\n# Create some data\\nx = [1, 2, 3, 4, 5]\\ny = [2, 4, 6, 8, 10]\\n\\n# Create a figure and axes\\nfig, ax = plt.subplots()\\n\\n# Plot the data\\nax.plot(x, y)\\n\\n# Show the plot interactively\\nplt.show(block=True)\\n```', 'intermediate_steps': [(AgentAction(tool='_Exception', tool_input='Invalid or incomplete response', log='Could not parse LLM output: To create a basic plot in matplotlib interactively via a GUI, you can use the following code:\\n\\n```python\\nimport matplotlib.pyplot as plt\\n\\n# Create some data\\nx = [1, 2, 3, 4, 5]\\ny = [2, 4, 6, 8, 10]\\n\\n# Create a figure and axes\\nfig, ax = plt.subplots()\\n\\n# Plot the data\\nax.plot(x, y)\\n\\n# Show the plot interactively\\nplt.show(block=True)\\n```\\n\\nThis code will display the plot in a separate window and allow you to interact with it using the GUI provided by matplotlib.'), 'Invalid or incomplete response')]}"
   ]
  },
  {
   "cell_type": "code",
   "execution_count": 43,
   "metadata": {},
   "outputs": [],
   "source": [
    "from langchain.schema import (\n",
    "    AgentAction,\n",
    "    AgentFinish,\n",
    "    BaseOutputParser,\n",
    "    BasePromptTemplate,\n",
    "    OutputParserException,\n",
    ")\n",
    "\n",
    "x = 'e'\n",
    "def testnig(x):\n",
    "    try:\n",
    "        1/x\n",
    "    except OutputParserException as e:\n",
    "        print('The error is:', e)"
   ]
  },
  {
   "cell_type": "code",
   "execution_count": 44,
   "metadata": {},
   "outputs": [
    {
     "ename": "TypeError",
     "evalue": "unsupported operand type(s) for /: 'int' and 'str'",
     "output_type": "error",
     "traceback": [
      "\u001b[1;31m---------------------------------------------------------------------------\u001b[0m",
      "\u001b[1;31mTypeError\u001b[0m                                 Traceback (most recent call last)",
      "\u001b[1;32mc:\\Users\\Mothling\\Projects\\LLMs\\GPT\\expert-memory\\testing.ipynb Cell 19\u001b[0m line \u001b[0;36m1\n\u001b[1;32m----> <a href='vscode-notebook-cell:/c%3A/Users/Mothling/Projects/LLMs/GPT/expert-memory/testing.ipynb#X34sZmlsZQ%3D%3D?line=0'>1</a>\u001b[0m testnig(x)\n",
      "\u001b[1;32mc:\\Users\\Mothling\\Projects\\LLMs\\GPT\\expert-memory\\testing.ipynb Cell 19\u001b[0m line \u001b[0;36m1\n\u001b[0;32m     <a href='vscode-notebook-cell:/c%3A/Users/Mothling/Projects/LLMs/GPT/expert-memory/testing.ipynb#X34sZmlsZQ%3D%3D?line=9'>10</a>\u001b[0m \u001b[39mdef\u001b[39;00m \u001b[39mtestnig\u001b[39m(x):\n\u001b[0;32m     <a href='vscode-notebook-cell:/c%3A/Users/Mothling/Projects/LLMs/GPT/expert-memory/testing.ipynb#X34sZmlsZQ%3D%3D?line=10'>11</a>\u001b[0m     \u001b[39mtry\u001b[39;00m:\n\u001b[1;32m---> <a href='vscode-notebook-cell:/c%3A/Users/Mothling/Projects/LLMs/GPT/expert-memory/testing.ipynb#X34sZmlsZQ%3D%3D?line=11'>12</a>\u001b[0m         \u001b[39m1\u001b[39;49m\u001b[39m/\u001b[39;49mx\n\u001b[0;32m     <a href='vscode-notebook-cell:/c%3A/Users/Mothling/Projects/LLMs/GPT/expert-memory/testing.ipynb#X34sZmlsZQ%3D%3D?line=12'>13</a>\u001b[0m     \u001b[39mexcept\u001b[39;00m OutputParserException \u001b[39mas\u001b[39;00m e:\n\u001b[0;32m     <a href='vscode-notebook-cell:/c%3A/Users/Mothling/Projects/LLMs/GPT/expert-memory/testing.ipynb#X34sZmlsZQ%3D%3D?line=13'>14</a>\u001b[0m         \u001b[39mprint\u001b[39m(\u001b[39m'\u001b[39m\u001b[39mThe error is:\u001b[39m\u001b[39m'\u001b[39m, e)\n",
      "\u001b[1;31mTypeError\u001b[0m: unsupported operand type(s) for /: 'int' and 'str'"
     ]
    }
   ],
   "source": [
    "testnig(x)"
   ]
  },
  {
   "cell_type": "code",
   "execution_count": null,
   "metadata": {},
   "outputs": [],
   "source": []
  }
 ],
 "metadata": {
  "kernelspec": {
   "display_name": ".venv",
   "language": "python",
   "name": "python3"
  },
  "language_info": {
   "codemirror_mode": {
    "name": "ipython",
    "version": 3
   },
   "file_extension": ".py",
   "mimetype": "text/x-python",
   "name": "python",
   "nbconvert_exporter": "python",
   "pygments_lexer": "ipython3",
   "version": "3.11.4"
  },
  "orig_nbformat": 4
 },
 "nbformat": 4,
 "nbformat_minor": 2
}
